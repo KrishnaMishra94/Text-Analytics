{
 "cells": [
  {
   "cell_type": "code",
   "execution_count": 21,
   "metadata": {},
   "outputs": [],
   "source": [
    "import pandas as pd\n",
    "import numpy as np\n",
    "import os\n",
    "from sklearn.model_selection import train_test_split\n"
   ]
  },
  {
   "cell_type": "code",
   "execution_count": 24,
   "metadata": {},
   "outputs": [
    {
     "name": "stdout",
     "output_type": "stream",
     "text": [
      "(2002, 8)\n"
     ]
    }
   ],
   "source": [
    "########################### DATA LOADING #################################\n",
    "\n",
    "train = pd.read_excel(r'C:\\Users\\K7857178\\Desktop\\73_Strings\\Training Data.xlsx')\n",
    "print(train.shape)\n",
    "########################################################################"
   ]
  },
  {
   "cell_type": "code",
   "execution_count": 22,
   "metadata": {},
   "outputs": [],
   "source": [
    "########################### FEATURE REMOVAL ##############################\n"
   ]
  },
  {
   "cell_type": "code",
   "execution_count": 25,
   "metadata": {},
   "outputs": [
    {
     "data": {
      "text/plain": [
       "Public Company    2002\n",
       "Name: Company Type, dtype: int64"
      ]
     },
     "execution_count": 25,
     "metadata": {},
     "output_type": "execute_result"
    }
   ],
   "source": [
    "train['Company Type'].value_counts()"
   ]
  },
  {
   "cell_type": "code",
   "execution_count": 18,
   "metadata": {},
   "outputs": [
    {
     "data": {
      "text/plain": [
       "Operating    2002\n",
       "Name: Company Status, dtype: int64"
      ]
     },
     "execution_count": 18,
     "metadata": {},
     "output_type": "execute_result"
    }
   ],
   "source": [
    "train['Company Status'].value_counts()"
   ]
  },
  {
   "cell_type": "code",
   "execution_count": 19,
   "metadata": {},
   "outputs": [
    {
     "data": {
      "text/plain": [
       "United States of America (Primary)    2002\n",
       "Name: Geographic Locations, dtype: int64"
      ]
     },
     "execution_count": 19,
     "metadata": {},
     "output_type": "execute_result"
    }
   ],
   "source": [
    "train['Geographic Locations'].value_counts()"
   ]
  },
  {
   "cell_type": "code",
   "execution_count": 20,
   "metadata": {},
   "outputs": [],
   "source": [
    "### SINCE ALL VALUES ARE SAME FOR 'Company Type','Company Status',''Geographic Locations''.\n",
    "### THEREFORE REMOVING THEM AS THESE COLUMNS ARE NOT HELPFUL IN MODEL BUILDING.\n",
    "train.drop(columns=['Company Type','Company Status','Geographic Locations'],inplace=True)"
   ]
  },
  {
   "cell_type": "code",
   "execution_count": null,
   "metadata": {},
   "outputs": [],
   "source": [
    "###############################################################################\n"
   ]
  },
  {
   "cell_type": "code",
   "execution_count": null,
   "metadata": {},
   "outputs": [],
   "source": [
    "########################## FEATURE IMPROVEMENT ##############################\n"
   ]
  },
  {
   "cell_type": "code",
   "execution_count": 26,
   "metadata": {},
   "outputs": [
    {
     "data": {
      "text/plain": [
       "False"
      ]
     },
     "execution_count": 26,
     "metadata": {},
     "output_type": "execute_result"
    }
   ],
   "source": [
    "## VALUES OF THESE TWO COLUMNS ARE NOT SAME\n",
    "train['Exchange:Ticker'].equals(train['Security Tickers'])"
   ]
  },
  {
   "cell_type": "code",
   "execution_count": 28,
   "metadata": {},
   "outputs": [
    {
     "name": "stdout",
     "output_type": "stream",
     "text": [
      "0                    Beauty Care Products (Primary)\n",
      "1    Catalog Flowers, Gifts and Novelties (Primary)\n",
      "Name: Industry Classifications, dtype: object\n"
     ]
    }
   ],
   "source": [
    "## EXTRACTING ONLY FIRST TAG FROM CLASSIFICATION\n",
    "train['Industry Classifications'] = train['Industry Classifications'].apply(lambda var : var.split(';')[0])\n",
    "print(train['Industry Classifications'].head(2))"
   ]
  },
  {
   "cell_type": "code",
   "execution_count": 29,
   "metadata": {},
   "outputs": [
    {
     "name": "stdout",
     "output_type": "stream",
     "text": [
      "0                    Beauty Care Products\n",
      "1    Catalog Flowers, Gifts and Novelties\n",
      "Name: Industry Classifications, dtype: object\n"
     ]
    }
   ],
   "source": [
    "## REMOVING DUMMY STRING FROM CLASSFICATION\n",
    "train['Industry Classifications'] = train['Industry Classifications'].apply(lambda var : var.replace(' (Primary)',''))\n",
    "print(train['Industry Classifications'].head(2))"
   ]
  },
  {
   "cell_type": "code",
   "execution_count": 31,
   "metadata": {},
   "outputs": [
    {
     "name": "stdout",
     "output_type": "stream",
     "text": [
      "(2002, 2)\n"
     ]
    }
   ],
   "source": [
    "## CONSIDERING ONLY THE NECESSARY COLUMN\n",
    "train = train[['Business Description','Industry Classifications']]\n",
    "print(train.shape)"
   ]
  },
  {
   "cell_type": "code",
   "execution_count": null,
   "metadata": {},
   "outputs": [],
   "source": [
    "##############################################################################"
   ]
  },
  {
   "cell_type": "code",
   "execution_count": null,
   "metadata": {},
   "outputs": [],
   "source": [
    "######################### HANDLING MISSING/DUMMY VALUES ######################"
   ]
  },
  {
   "cell_type": "code",
   "execution_count": 32,
   "metadata": {},
   "outputs": [
    {
     "data": {
      "text/html": [
       "<div>\n",
       "<style scoped>\n",
       "    .dataframe tbody tr th:only-of-type {\n",
       "        vertical-align: middle;\n",
       "    }\n",
       "\n",
       "    .dataframe tbody tr th {\n",
       "        vertical-align: top;\n",
       "    }\n",
       "\n",
       "    .dataframe thead th {\n",
       "        text-align: right;\n",
       "    }\n",
       "</style>\n",
       "<table border=\"1\" class=\"dataframe\">\n",
       "  <thead>\n",
       "    <tr style=\"text-align: right;\">\n",
       "      <th></th>\n",
       "      <th>Total</th>\n",
       "      <th>Percentage</th>\n",
       "    </tr>\n",
       "  </thead>\n",
       "  <tbody>\n",
       "    <tr>\n",
       "      <th>Industry Classifications</th>\n",
       "      <td>0</td>\n",
       "      <td>0.0</td>\n",
       "    </tr>\n",
       "    <tr>\n",
       "      <th>Business Description</th>\n",
       "      <td>0</td>\n",
       "      <td>0.0</td>\n",
       "    </tr>\n",
       "  </tbody>\n",
       "</table>\n",
       "</div>"
      ],
      "text/plain": [
       "                          Total  Percentage\n",
       "Industry Classifications      0         0.0\n",
       "Business Description          0         0.0"
      ]
     },
     "execution_count": 32,
     "metadata": {},
     "output_type": "execute_result"
    }
   ],
   "source": [
    "## CHECK FOR MISSING VALUES\n",
    "def draw_null_values_table(df):\n",
    "    nullCount  = df.isnull().sum().sort_values(ascending=False)\n",
    "    percentage = (df.isnull().sum().sort_values(ascending=False))*100/df.shape[0]\n",
    "    missingTable = pd.concat([nullCount,percentage],axis=1,keys=['Total','Percentage'])\n",
    "    return missingTable\n",
    "\n",
    "draw_null_values_table(train)"
   ]
  },
  {
   "cell_type": "code",
   "execution_count": 33,
   "metadata": {},
   "outputs": [
    {
     "data": {
      "text/plain": [
       "(32, 2)"
      ]
     },
     "execution_count": 33,
     "metadata": {},
     "output_type": "execute_result"
    }
   ],
   "source": [
    "## 32 ROWS HAVE VALUE '-'. \n",
    "train[train['Business Description'] == '-'].shape"
   ]
  },
  {
   "cell_type": "code",
   "execution_count": 35,
   "metadata": {},
   "outputs": [
    {
     "name": "stdout",
     "output_type": "stream",
     "text": [
      "(1970, 2)\n"
     ]
    }
   ],
   "source": [
    "## REMOVING THEM AS THE COUNT IS LESS\n",
    "train = train[train['Business Description'] != '-']\n",
    "print(train.shape)"
   ]
  },
  {
   "cell_type": "code",
   "execution_count": null,
   "metadata": {},
   "outputs": [],
   "source": [
    "###################################################################################"
   ]
  },
  {
   "cell_type": "code",
   "execution_count": null,
   "metadata": {},
   "outputs": [],
   "source": [
    "############################## CLEANING TEXT ##################################"
   ]
  },
  {
   "cell_type": "code",
   "execution_count": 36,
   "metadata": {},
   "outputs": [],
   "source": [
    "import re\n",
    "\n",
    "def clean_text(text):\n",
    "    ## REMOVING THE CHARACTERS [\\], ['] and [\"]\n",
    "    text = re.sub(r\"\\\\\",\" \",text)\n",
    "    text = re.sub(r\"\\\"\",\" \",text)\n",
    "    text = re.sub(r\"\\'\",\" \",text)\n",
    "    \n",
    "    ## REMOVING SINGLE CHARACTERS WITH A SPACE\n",
    "    text = re.sub(r\"\\s+[a-zA-Z]\\s+\",\" \",text)\n",
    "    \n",
    "    ## REMOVING MULTIPLE SPACES WITH SINGLE SPACE\n",
    "    text = re.sub(r\"\\s+\",\" \",text)\n",
    "\n",
    "    ## CONVERTING TEXT TO LOWERCASE    \n",
    "    text = text.strip().lower()\n",
    "    \n",
    "    ## REPLACING PUNCTUATION CHARACTERS WITH SPACES\n",
    "    punctuations    = '!\"\\'#$%&()*+,-./:;<=>?@[\\\\]^_`{|}~\\t\\n'\n",
    "    translate_dict  = dict((char, \" \") for char in punctuations)\n",
    "    translate_map   = str.maketrans(translate_dict)\n",
    "    text            = text.translate(translate_map)\n",
    "    \n",
    "    return text\n",
    "\n",
    "train['Business Description'] = train['Business Description'].apply(lambda var : clean_text(var))"
   ]
  },
  {
   "cell_type": "code",
   "execution_count": null,
   "metadata": {},
   "outputs": [],
   "source": [
    "##############################################################################"
   ]
  },
  {
   "cell_type": "code",
   "execution_count": null,
   "metadata": {},
   "outputs": [],
   "source": [
    "######################### PERFORMING LEMMATIZATION ##########################"
   ]
  },
  {
   "cell_type": "code",
   "execution_count": 37,
   "metadata": {},
   "outputs": [],
   "source": [
    "\n",
    "from nltk.tokenize import word_tokenize\n",
    "from nltk.stem import WordNetLemmatizer\n",
    "lemmatizer = WordNetLemmatizer()\n",
    "\n",
    "def lammetize_text(txt):\n",
    "    words = word_tokenize(txt)\n",
    "    val = [lemmatizer.lemmatize(w) for w in words]\n",
    "    seperator = ' '\n",
    "    return(seperator.join(val))\n",
    "    \n",
    "train['Business Description'] = train['Business Description'].apply(lambda var : lammetize_text(var))"
   ]
  },
  {
   "cell_type": "code",
   "execution_count": null,
   "metadata": {},
   "outputs": [],
   "source": [
    "##############################################################################"
   ]
  },
  {
   "cell_type": "code",
   "execution_count": null,
   "metadata": {},
   "outputs": [],
   "source": [
    "######################## PERFORMING BAG OF WORDS MATRIX ###################"
   ]
  },
  {
   "cell_type": "code",
   "execution_count": 38,
   "metadata": {},
   "outputs": [],
   "source": [
    "from sklearn.feature_extraction.text import CountVectorizer\n",
    "count_vect = CountVectorizer(stop_words=\"english\",max_features=15000)\n",
    "X_vectors   = count_vect.fit_transform(train['Business Description']).toarray()"
   ]
  },
  {
   "cell_type": "code",
   "execution_count": null,
   "metadata": {},
   "outputs": [],
   "source": [
    "###########################################################################"
   ]
  },
  {
   "cell_type": "code",
   "execution_count": null,
   "metadata": {},
   "outputs": [],
   "source": [
    "####################### TRAIN TEST SPLIT ##############################"
   ]
  },
  {
   "cell_type": "code",
   "execution_count": 39,
   "metadata": {},
   "outputs": [],
   "source": [
    "from sklearn.model_selection import train_test_split\n",
    "X_train, X_test, y_train, y_test = train_test_split(X_vectors, train['Industry Classifications'], test_size=0.3, random_state=0)"
   ]
  },
  {
   "cell_type": "code",
   "execution_count": null,
   "metadata": {},
   "outputs": [],
   "source": [
    "#######################################################################"
   ]
  },
  {
   "cell_type": "code",
   "execution_count": null,
   "metadata": {},
   "outputs": [],
   "source": [
    "########################### MODEL BUILDING ##############################"
   ]
  },
  {
   "cell_type": "code",
   "execution_count": 40,
   "metadata": {},
   "outputs": [
    {
     "name": "stdout",
     "output_type": "stream",
     "text": [
      "Accuracy on the dataset is: 52.79\n"
     ]
    }
   ],
   "source": [
    "from sklearn.metrics import accuracy_score\n",
    "def check_model_accuray(X_train,y_train,X_test,y_test,model):\n",
    "    model.fit(X_train,y_train)\n",
    "    predict = model.predict(X_test)\n",
    "    acc = accuracy_score(y_test, predict)\n",
    "    print(\"Accuracy on the dataset is: {:.2f}\".format(acc*100))\n",
    "\n",
    "    \n",
    "from sklearn.linear_model import LogisticRegression\n",
    "model = LogisticRegression()\n",
    "check_model_accuray(X_train,y_train,X_test,y_test,model)"
   ]
  },
  {
   "cell_type": "code",
   "execution_count": null,
   "metadata": {},
   "outputs": [],
   "source": [
    "#########################################################################"
   ]
  },
  {
   "cell_type": "code",
   "execution_count": null,
   "metadata": {},
   "outputs": [],
   "source": [
    "######################### SERIALIZING THE MODEL #########################"
   ]
  },
  {
   "cell_type": "code",
   "execution_count": 41,
   "metadata": {},
   "outputs": [],
   "source": [
    "import pickle\n",
    "file = open('US_COMPANIES_CLASSIFICATION.pkl', 'wb')\n",
    "pickle.dump(model,file,protocol=2)\n",
    "file.close()"
   ]
  },
  {
   "cell_type": "code",
   "execution_count": null,
   "metadata": {},
   "outputs": [],
   "source": [
    "#########################################################################"
   ]
  }
 ],
 "metadata": {
  "kernelspec": {
   "display_name": "Python 3",
   "language": "python",
   "name": "python3"
  },
  "language_info": {
   "codemirror_mode": {
    "name": "ipython",
    "version": 3
   },
   "file_extension": ".py",
   "mimetype": "text/x-python",
   "name": "python",
   "nbconvert_exporter": "python",
   "pygments_lexer": "ipython3",
   "version": "3.6.5"
  }
 },
 "nbformat": 4,
 "nbformat_minor": 2
}
